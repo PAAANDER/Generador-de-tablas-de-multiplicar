{
  "nbformat": 4,
  "nbformat_minor": 0,
  "metadata": {
    "colab": {
      "provenance": [],
      "authorship_tag": "ABX9TyNgThCHpG5NyrwMzPMWuZZz",
      "include_colab_link": true
    },
    "kernelspec": {
      "name": "python3",
      "display_name": "Python 3"
    },
    "language_info": {
      "name": "python"
    }
  },
  "cells": [
    {
      "cell_type": "markdown",
      "metadata": {
        "id": "view-in-github",
        "colab_type": "text"
      },
      "source": [
        "<a href=\"https://colab.research.google.com/github/PAAANDER/Generador-de-tablas-de-multiplicar/blob/main/Tablas_de_multiplicar.ipynb\" target=\"_parent\"><img src=\"https://colab.research.google.com/assets/colab-badge.svg\" alt=\"Open In Colab\"/></a>"
      ]
    },
    {
      "cell_type": "code",
      "execution_count": 2,
      "metadata": {
        "colab": {
          "base_uri": "https://localhost:8080/"
        },
        "id": "V0on5ThSVatT",
        "outputId": "53865b47-22e9-45a6-c6f3-a4cf17770223"
      },
      "outputs": [
        {
          "output_type": "stream",
          "name": "stdout",
          "text": [
            "Ingrese un número para generar la tabla de multiplicar: 8\n",
            "Tabla de multiplicar del 8:\n",
            "8 x 1 = 8\n",
            "8 x 2 = 16\n",
            "8 x 3 = 24\n",
            "8 x 4 = 32\n",
            "8 x 5 = 40\n",
            "8 x 6 = 48\n",
            "8 x 7 = 56\n",
            "8 x 8 = 64\n",
            "8 x 9 = 72\n",
            "8 x 10 = 80\n"
          ]
        }
      ],
      "source": [
        "def generar_tabla_multiplicar():\n",
        "    try:\n",
        "        numero = int(input(\"Ingrese un número para generar la tabla de multiplicar: \"))\n",
        "\n",
        "\n",
        "        print(f\"Tabla de multiplicar del {numero}:\")\n",
        "\n",
        "        for i in range(1, 11):\n",
        "            resultado = numero * i\n",
        "\n",
        "            print(f\"{numero} x {i} = {resultado}\")\n",
        "    except ValueError:\n",
        "        print(\"Por favor, ingrese un número válido.\")\n",
        "\n",
        "generar_tabla_multiplicar()"
      ]
    }
  ]
}